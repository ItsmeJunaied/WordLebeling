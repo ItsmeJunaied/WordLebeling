{
  "nbformat": 4,
  "nbformat_minor": 0,
  "metadata": {
    "colab": {
      "provenance": [],
      "authorship_tag": "ABX9TyNw0DKOmKEnTiX6d77TfgUP",
      "include_colab_link": true
    },
    "kernelspec": {
      "name": "python3",
      "display_name": "Python 3"
    },
    "language_info": {
      "name": "python"
    }
  },
  "cells": [
    {
      "cell_type": "markdown",
      "metadata": {
        "id": "view-in-github",
        "colab_type": "text"
      },
      "source": [
        "<a href=\"https://colab.research.google.com/github/ItsmeJunaied/WordLebeling/blob/main/WordBYwordLebel.ipynb\" target=\"_parent\"><img src=\"https://colab.research.google.com/assets/colab-badge.svg\" alt=\"Open In Colab\"/></a>"
      ]
    },
    {
      "cell_type": "code",
      "execution_count": 2,
      "metadata": {
        "id": "ASY8cdqzO_AU"
      },
      "outputs": [],
      "source": [
        "import os\n",
        "import csv\n",
        "from google.cloud import translate_v2 as translate\n",
        "\n",
        "# Set the environment variable for Google Cloud service account key\n",
        "os.environ['GOOGLE_APPLICATION_CREDENTIALS'] = '/content/ultra-depot-381621-ecd1a99c28c1.json'\n",
        "\n",
        "\n",
        "# Instantiates a client\n",
        "translate_client = translate.Client()\n",
        "\n",
        "# Define a function to detect the language of a word\n",
        "def detect_language(text):\n",
        "    # Detect the language\n",
        "    detection = translate_client.detect_language(text)\n",
        "\n",
        "    # Return the detected language\n",
        "    return detection['language']\n",
        "\n",
        "# Read the input CSV file\n",
        "with open('finalInput - Sheet1.csv', mode='r') as input_file:\n",
        "    reader = csv.reader(input_file)\n",
        "\n",
        "    # Create a new CSV file for the output\n",
        "    with open('8888888888.csv', mode='w', newline='') as output_file:\n",
        "        writer = csv.writer(output_file)\n",
        "\n",
        "        # Loop through each row in the input file\n",
        "        for row in reader:\n",
        "            # Split the sentence into separate words\n",
        "            words = row[0].split()\n",
        "\n",
        "            # Write each word in a separate cell in the same row\n",
        "            writer.writerow(words)\n",
        "\n",
        "            # Write the language of each word in the next row\n",
        "            language_row = []\n",
        "            for word in words:\n",
        "                language = detect_language(word)\n",
        "                if language != 'en':\n",
        "                    language = 'banglish'\n",
        "                language_row.append(language)\n",
        "            writer.writerow(language_row)\n"
      ]
    }
  ]
}